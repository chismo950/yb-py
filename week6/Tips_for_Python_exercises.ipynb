{
 "cells": [
  {
   "cell_type": "code",
   "execution_count": 1,
   "id": "07bc372e-0bba-42aa-b92f-1821f664976e",
   "metadata": {},
   "outputs": [
    {
     "name": "stdout",
     "output_type": "stream",
     "text": [
      "[{'name': 'Alice', 'age': 28}, {'name': 'Charlie', 'age': 30}]\n"
     ]
    }
   ],
   "source": [
    "# extract information with age greater than 25 from the following list of dictionaries\n",
    "data = [{\"name\": \"Alice\", \"age\": 28}, {\"name\": \"Bob\", \"age\": 24}, {\"name\": \"Charlie\", \"age\": 30}]\n",
    "\n",
    "# Solution: Use list comprehension to filter dictionaries with age > 25\n",
    "result = [person for person in data if person[\"age\"] > 25]\n",
    "print(result)"
   ]
  },
  {
   "cell_type": "code",
   "execution_count": 2,
   "id": "4d7663b4-e991-43a8-9f44-a37c1ad87b50",
   "metadata": {},
   "outputs": [
    {
     "name": "stdout",
     "output_type": "stream",
     "text": [
      "[1, 2, 3, 4, 5, 6, 7, 8, 9]\n"
     ]
    }
   ],
   "source": [
    "# use list comprehension to flatten the matrix\n",
    "matrix = [[1, 2, 3], [4, 5, 6], [7, 8, 9]]\n",
    "\n",
    "# Solution: Use nested list comprehension to flatten the matrix\n",
    "result = []\n",
    "for row in matrix:      # Outer loop: iterate through each row in the matrix\n",
    "    for element in row: # Inner loop: iterate through each element in the row\n",
    "        result.append(element)\n",
    "print(result)"
   ]
  },
  {
   "cell_type": "code",
   "execution_count": 3,
   "id": "163bdfe0-c2c9-400c-b221-432f902aea57",
   "metadata": {},
   "outputs": [
    {
     "name": "stdout",
     "output_type": "stream",
     "text": [
      "[93, 97, 83, 70, 60, 99]\n"
     ]
    }
   ],
   "source": [
    "# use enumerate() for looping to add 5 extra point to each grade in the list, the 5th one add 10 \n",
    "grades = [88, 92, 78, 65, 50, 94]\n",
    "\n",
    "# Solution: Use enumerate to add 5 to each, 10 to the 5th\n",
    "new_grades = []\n",
    "for idx, grade in enumerate(grades):\n",
    "    if idx == 4:\n",
    "        new_grades.append(grade + 10)\n",
    "    else:\n",
    "        new_grades.append(grade + 5)\n",
    "print(new_grades)"
   ]
  },
  {
   "cell_type": "code",
   "execution_count": 4,
   "id": "d069230f-2c5d-4c16-bbf9-576ffa3f7031",
   "metadata": {},
   "outputs": [
    {
     "name": "stdout",
     "output_type": "stream",
     "text": [
      "[100, 300, 500]\n"
     ]
    }
   ],
   "source": [
    "# filter out elements depend on their index: \n",
    "# use list comprehension and enumerate() to get elements with even index\n",
    "data = [100, 200, 300, 400, 500]\n",
    "\n",
    "# Solution: Use list comprehension with enumerate to get elements with even index\n",
    "result = [value for idx, value in enumerate(data) if idx % 2 == 0]\n",
    "print(result)"
   ]
  },
  {
   "cell_type": "code",
   "execution_count": 5,
   "id": "ebdc579d-5829-4204-9814-253753ea6766",
   "metadata": {},
   "outputs": [
    {
     "name": "stdout",
     "output_type": "stream",
     "text": [
      "{'name': 'Alice', 'age': 25, 'grade': 'A'}\n"
     ]
    }
   ],
   "source": [
    "# create a dictionary from lists using zip()\n",
    "keys = ['name', 'age', 'grade']\n",
    "values = ['Alice', 25, 'A']\n",
    "\n",
    "# Solution: Use zip and dict to create a dictionary\n",
    "result = dict(zip(keys, values))\n",
    "print(result)"
   ]
  },
  {
   "cell_type": "code",
   "execution_count": 6,
   "id": "96eabba4-1b73-40dd-80ad-de0f45bb4c81",
   "metadata": {},
   "outputs": [
    {
     "name": "stdout",
     "output_type": "stream",
     "text": [
      "[{'name': 'Jack', 'grade': 'A-', 'age': 16}, {'name': 'Joss', 'grade': 'A+', 'age': 19}, {'name': 'John', 'grade': 'A', 'age': 20}, {'name': 'Jane', 'grade': 'B', 'age': 21}, {'name': 'Dave', 'grade': 'C', 'age': 25}]\n"
     ]
    }
   ],
   "source": [
    "# sort the dictionary based on the ages using lambda\n",
    "students = [\n",
    "    {'name': \"John\", 'grade': \"A\", 'age': 20}, \n",
    "    {'name': \"Jane\", 'grade': \"B\", 'age': 21}, \n",
    "    {'name': \"Joss\", 'grade': \"A+\", 'age': 19}, \n",
    "    {'name': \"Jack\", 'grade': \"A-\", 'age': 16}, \n",
    "    {'name': \"Dave\", 'grade': \"C\", 'age': 25}, \n",
    "]\n",
    "\n",
    "# Solution: sort by age using lambda\n",
    "students_sorted = sorted(students, key=lambda x: x['age'])\n",
    "print(students_sorted)"
   ]
  },
  {
   "cell_type": "code",
   "execution_count": 8,
   "id": "1332bf19-f03a-4c5b-ac2f-c1fa58c54767",
   "metadata": {},
   "outputs": [
    {
     "name": "stdout",
     "output_type": "stream",
     "text": [
      "[{'name': 'Daniel', 'age': 25, 'salary': 48000}, {'name': 'Bob', 'age': 25, 'salary': 50000}, {'name': 'Alice', 'age': 30, 'salary': 80000}, {'name': 'Charlie', 'age': 35, 'salary': 120000}]\n"
     ]
    }
   ],
   "source": [
    "# Sort by age, then by salary if ages are the same\n",
    "# use lambda\n",
    "employees = [\n",
    "    {'name': 'Alice', 'age': 30, 'salary': 80000},\n",
    "    {'name': 'Bob', 'age': 25, 'salary': 50000},\n",
    "    {'name': 'Charlie', 'age': 35, 'salary': 120000},\n",
    "    {'name': 'Daniel', 'age': 25, 'salary': 48000},\n",
    "]\n",
    "\n",
    "# Solution: sort by age, then by salary if ages are the same\n",
    "employees_sorted = sorted(employees, key=lambda x: (x['age'], x['salary']))\n",
    "print(employees_sorted)"
   ]
  },
  {
   "cell_type": "code",
   "execution_count": 10,
   "id": "ad414ac1-a032-4d8e-a8ae-0d8180ffbeb6",
   "metadata": {},
   "outputs": [],
   "source": [
    "# Generators are highly useful in data-heavy applications:\n",
    "\n",
    "# Reading Large Files: Use generators to read large files line by line without loading the entire file into memory.\n",
    "def read_large_file(file_path):\n",
    "    with open(file_path, 'r') as f: # Open the file at the specified path, read-only mode. with ... as ... automatically manages resource acquisition and release; after the code block, resources are cleaned up (like closing the file) even if exceptions occur.\n",
    "        for line in f: # Iterate over the file object, reading one line at a time\n",
    "            yield line # Use yield to return the current line, function pauses, waits for next iteration. yield is a generator statement in Python, used to return a value and pause function execution, resuming from the pause on next iteration. Makes the function a generator, producing data step by step instead of returning all results at once. Each yield returns a value and remembers the current state, waiting for the next call. Saves memory, suitable for handling large amounts of data.\n",
    "\n",
    "# Data Streaming: Stream data entries for real-time data processing.\n",
    "def data_stream(data):\n",
    "    for item in data:\n",
    "        yield item\n",
    "\n",
    "# Large Calculations: Break down massive calculations into smaller, more manageable chunks.\n",
    "def chunked_sum(numbers, chunk_size):\n",
    "    chunk = []\n",
    "    for num in numbers:\n",
    "        chunk.append(num)\n",
    "        if len(chunk) == chunk_size:\n",
    "            yield sum(chunk) # When the chunk is full, return the sum of this chunk. For example, sum([1, 2, 3]) is 6\n",
    "            chunk = [] # Clear the chunk, prepare for the next one\n",
    "    if chunk:\n",
    "        yield sum(chunk) # The last chunk may not be full, still return its sum\n",
    "\n",
    "# Example usage (commented out as no real file/data provided):\n",
    "# for line in read_large_file('large.txt'):\n",
    "#     process(line)\n",
    "# for entry in data_stream([1,2,3,4]):\n",
    "#     print(entry)\n",
    "# for s in chunked_sum(range(10), 3):\n",
    "#     print(s)"
   ]
  }
 ],
 "metadata": {
  "kernelspec": {
   "display_name": "yb",
   "language": "python",
   "name": "python3"
  },
  "language_info": {
   "codemirror_mode": {
    "name": "ipython",
    "version": 3
   },
   "file_extension": ".py",
   "mimetype": "text/x-python",
   "name": "python",
   "nbconvert_exporter": "python",
   "pygments_lexer": "ipython3",
   "version": "3.13.2"
  }
 },
 "nbformat": 4,
 "nbformat_minor": 5
}
