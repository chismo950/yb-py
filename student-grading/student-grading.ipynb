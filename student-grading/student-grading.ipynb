{
 "cells": [
  {
   "cell_type": "code",
   "execution_count": 8,
   "id": "2a59401d",
   "metadata": {},
   "outputs": [],
   "source": [
    "class Student:\n",
    "    def __init__(self, name, grade):\n",
    "        self.name = name\n",
    "        self.grade = grade\n",
    "    def show(self):\n",
    "        print(f\"{self.name}: {self.grade}\")"
   ]
  },
  {
   "cell_type": "code",
   "execution_count": 9,
   "id": "553f4723",
   "metadata": {},
   "outputs": [],
   "source": [
    "students:Student = []"
   ]
  },
  {
   "cell_type": "code",
   "execution_count": 12,
   "id": "153c0786",
   "metadata": {},
   "outputs": [],
   "source": [
    "name = input(\"Please input student name: \")\n",
    "grade = input(\"Please input student grade: \")\n",
    "if len(name)==0:\n",
    "    raise ValueError(\"name can not be empty\")\n",
    "if (len(grade)==0):\n",
    "    raise ValueError(\"grade can not be empty\")\n",
    "students.append(Student(name, grade))"
   ]
  },
  {
   "cell_type": "code",
   "execution_count": 13,
   "id": "628f7a23",
   "metadata": {},
   "outputs": [
    {
     "name": "stdout",
     "output_type": "stream",
     "text": [
      "Alice: A+\n",
      "Bob: A-\n"
     ]
    }
   ],
   "source": [
    "for student in students:\n",
    "    student.show()"
   ]
  }
 ],
 "metadata": {
  "kernelspec": {
   "display_name": "yb",
   "language": "python",
   "name": "python3"
  },
  "language_info": {
   "codemirror_mode": {
    "name": "ipython",
    "version": 3
   },
   "file_extension": ".py",
   "mimetype": "text/x-python",
   "name": "python",
   "nbconvert_exporter": "python",
   "pygments_lexer": "ipython3",
   "version": "3.13.2"
  }
 },
 "nbformat": 4,
 "nbformat_minor": 5
}
