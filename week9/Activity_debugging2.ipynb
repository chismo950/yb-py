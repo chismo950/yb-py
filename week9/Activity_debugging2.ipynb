{
 "cells": [
  {
   "cell_type": "code",
   "execution_count": 50,
   "id": "d54f011e-918e-4af8-9d88-bdd3abe5ac0a",
   "metadata": {},
   "outputs": [],
   "source": [
    "from random import randint"
   ]
  },
  {
   "cell_type": "code",
   "execution_count": 51,
   "id": "e02fd5e3-2b7e-471a-a87d-815b42ed4b54",
   "metadata": {},
   "outputs": [
    {
     "name": "stdout",
     "output_type": "stream",
     "text": [
      "You got it!\n",
      "19\n"
     ]
    }
   ],
   "source": [
    "# example 1\n",
    "for i in range(1, 20):\n",
    "    # if i == 20:\n",
    "    if i == 19: # fixed\n",
    "        print(f\"You got it!\")\n",
    "print(i) # just see the last one vealue\n",
    "\n",
    "# Describe the problem - Write your answers as comments:\n",
    "# 1. what is the loop doing?\n",
    "#    The loop iterates i from 1 up to (but not including) 20.\n",
    "# 2. When is the function meant to print \"You got it!\"?\n",
    "#    It is meant to print \"You got it!\" when i equals 20.\n",
    "# 3. What are your assumptions about the value of i?\n",
    "#    The assumption is that i will reach 20, but since range(1, 20) stops at 19, i will never be 20, so the print statement will never execute."
   ]
  },
  {
   "cell_type": "code",
   "execution_count": null,
   "id": "c98e40dc-8074-4260-aeeb-261b2b599563",
   "metadata": {},
   "outputs": [],
   "source": []
  },
  {
   "cell_type": "code",
   "execution_count": 52,
   "id": "8d18a63c-ab13-4a31-942c-be33a1607cda",
   "metadata": {},
   "outputs": [
    {
     "name": "stdout",
     "output_type": "stream",
     "text": [
      "3\n"
     ]
    }
   ],
   "source": [
    "# example 2\n",
    "dice_images = [\"1\", \"2\", \"3\", \"4\", \"5\", \"6\"]\n",
    "dice_num = randint(1, 6)\n",
    "# print(dice_images[dice_num])\n",
    "print(dice_images[dice_num - 1]) # fixed\n",
    "# The error occurs because Python lists are zero-indexed.\n",
    "# randint(1, 6) returns a number from 1 to 6, but dice_images[6] is out of range (valid indices are 0 to 5).\n",
    "# Fix: Subtract 1 from dice_num when indexing the list"
   ]
  },
  {
   "cell_type": "code",
   "execution_count": null,
   "id": "a865d918-5ee4-4c6a-beda-bbcd2e3ea9fa",
   "metadata": {},
   "outputs": [],
   "source": []
  },
  {
   "cell_type": "code",
   "execution_count": 53,
   "id": "88ce2963-10bf-42ec-a02f-89811bda74fe",
   "metadata": {},
   "outputs": [
    {
     "name": "stdout",
     "output_type": "stream",
     "text": [
      "You are not a Millennial or Gen Z\n"
     ]
    }
   ],
   "source": [
    "# example 3\n",
    "while True:\n",
    "    year_input = input(\"What is your year of birth? \")\n",
    "    try:\n",
    "        year = int(year_input)\n",
    "        break\n",
    "    except ValueError:\n",
    "        print(\"Please enter a valid year (e.g., 1990).\")\n",
    "\n",
    "if year > 1980 and year < 1994:\n",
    "    print(\"You are a Millennial\")\n",
    "elif year >= 1994:\n",
    "    print(\"You are a Gen Z\")\n",
    "else:\n",
    "    print(\"You are not a Millennial or Gen Z\")\n",
    "# The condition elif year > 1994: should be elif year >= 1994: if you want people born in 1994 to be Gen Z.\n",
    "# Also, there is no output for people born in 1980 or earlier."
   ]
  },
  {
   "cell_type": "code",
   "execution_count": null,
   "id": "95197a19-1f0c-49b1-8d98-06f9098eaa91",
   "metadata": {},
   "outputs": [],
   "source": []
  },
  {
   "cell_type": "code",
   "execution_count": 54,
   "id": "c285fc19-0db3-4af1-bcbe-53bbbeccece4",
   "metadata": {},
   "outputs": [
    {
     "name": "stdout",
     "output_type": "stream",
     "text": [
      "We have 1 in total.\n"
     ]
    }
   ],
   "source": [
    "# example 4\n",
    "# word_per_page = 0 # we don't need to initiate it\n",
    "pages = int(float(input(\"Number of pages: \")))\n",
    "# word_per_page == int(input(\"Number of words per page: \"))\n",
    "word_per_page = int(float(input(\"Number of words per page: \")))  # fixed assignment\n",
    "total_words = pages * word_per_page\n",
    "\n",
    "print(f\"We have {total_words} in total.\")\n",
    "\n",
    "# uses == (comparison) instead of = (assignment). This means word_per_page is never updated, so it stays 0, and total_words will always be 0"
   ]
  },
  {
   "cell_type": "code",
   "execution_count": null,
   "id": "a06c6fa2-8fd9-471d-aed7-c76f37704579",
   "metadata": {},
   "outputs": [],
   "source": []
  },
  {
   "cell_type": "code",
   "execution_count": 58,
   "id": "2effe735-10b3-4966-bb79-fffd2dc5138f",
   "metadata": {},
   "outputs": [],
   "source": [
    "# example 5\n",
    "def add(a1, a2):\n",
    "    return a1 + a2\n",
    "\n",
    "def mutate(a_list):\n",
    "    b_list = []\n",
    "    # new_item = 0 # no need to initiate it\n",
    "    for item in a_list:\n",
    "        new_item = item * 2\n",
    "        new_item += randint(1, 3)\n",
    "        new_item = add(new_item, item)\n",
    "        b_list.append(new_item)  # <-- moved inside the loop\n",
    "    print(b_list)\n",
    "#  The line b_list.append(new_item) is outside the for loop, so only the last computed new_item is added to b_list. As a result, b_list will always contain just one element (the result from the last loop iteration)."
   ]
  },
  {
   "cell_type": "code",
   "execution_count": 56,
   "id": "2f7d32a6-565c-4573-9fb2-6203e69943f9",
   "metadata": {},
   "outputs": [
    {
     "name": "stdout",
     "output_type": "stream",
     "text": [
      "[5, 8, 10, 16, 4, 66, 13, 106]\n"
     ]
    }
   ],
   "source": [
    "a_demo_list = [1, 2, 3, 5, 1, 21, 4, 35]\n",
    "mutate(a_demo_list)"
   ]
  },
  {
   "cell_type": "code",
   "execution_count": null,
   "id": "d4192a55-7ed1-4052-b5ac-3cc3a1c1a7c5",
   "metadata": {},
   "outputs": [],
   "source": []
  },
  {
   "cell_type": "code",
   "execution_count": null,
   "id": "0f6a8d7e-d608-4d89-872f-33b4478ce2d3",
   "metadata": {},
   "outputs": [],
   "source": []
  }
 ],
 "metadata": {
  "kernelspec": {
   "display_name": "yb",
   "language": "python",
   "name": "python3"
  },
  "language_info": {
   "codemirror_mode": {
    "name": "ipython",
    "version": 3
   },
   "file_extension": ".py",
   "mimetype": "text/x-python",
   "name": "python",
   "nbconvert_exporter": "python",
   "pygments_lexer": "ipython3",
   "version": "3.13.2"
  }
 },
 "nbformat": 4,
 "nbformat_minor": 5
}
