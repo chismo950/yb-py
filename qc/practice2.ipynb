{
 "cells": [
  {
   "cell_type": "code",
   "execution_count": 46,
   "id": "42f2d5fe",
   "metadata": {},
   "outputs": [
    {
     "data": {
      "image/png": "[encoded data removed]",
      "text/plain": [
       "<Figure size 496.776x200.667 with 1 Axes>"
      ]
     },
     "metadata": {},
     "output_type": "display_data"
    },
    {
     "ename": "QiskitError",
     "evalue": "'Cannot apply instruction with classical bits: measure'",
     "output_type": "error",
     "traceback": [
      "\u001b[31m---------------------------------------------------------------------------\u001b[39m",
      "\u001b[31mQiskitError\u001b[39m                               Traceback (most recent call last)",
      "\u001b[36mCell\u001b[39m\u001b[36m \u001b[39m\u001b[32mIn[46]\u001b[39m\u001b[32m, line 16\u001b[39m\n\u001b[32m     14\u001b[39m counts = result.get_counts()\n\u001b[32m     15\u001b[39m init_state = Statevector.from_label(\u001b[33m'\u001b[39m\u001b[33m0\u001b[39m\u001b[33m'\u001b[39m)\n\u001b[32m---> \u001b[39m\u001b[32m16\u001b[39m final_state = \u001b[43minit_state\u001b[49m\u001b[43m.\u001b[49m\u001b[43mevolve\u001b[49m\u001b[43m(\u001b[49m\u001b[43mqc\u001b[49m\u001b[43m)\u001b[49m\n\u001b[32m     17\u001b[39m display(plot_bloch_multivector(final_state))\n\u001b[32m     18\u001b[39m display(plot_histogram(counts))\n",
      "\u001b[36mFile \u001b[39m\u001b[32m/opt/anaconda3/envs/yb/lib/python3.13/site-packages/qiskit/quantum_info/states/statevector.py:400\u001b[39m, in \u001b[36mStatevector.evolve\u001b[39m\u001b[34m(self, other, qargs)\u001b[39m\n\u001b[32m    398\u001b[39m     \u001b[38;5;28;01mif\u001b[39;00m \u001b[38;5;28mself\u001b[39m.num_qubits \u001b[38;5;129;01mis\u001b[39;00m \u001b[38;5;28;01mNone\u001b[39;00m:\n\u001b[32m    399\u001b[39m         \u001b[38;5;28;01mraise\u001b[39;00m QiskitError(\u001b[33m\"\u001b[39m\u001b[33mCannot apply QuantumCircuit to non-qubit Statevector.\u001b[39m\u001b[33m\"\u001b[39m)\n\u001b[32m--> \u001b[39m\u001b[32m400\u001b[39m     \u001b[38;5;28;01mreturn\u001b[39;00m \u001b[38;5;28;43mself\u001b[39;49m\u001b[43m.\u001b[49m\u001b[43m_evolve_instruction\u001b[49m\u001b[43m(\u001b[49m\u001b[43mret\u001b[49m\u001b[43m,\u001b[49m\u001b[43m \u001b[49m\u001b[43mother\u001b[49m\u001b[43m,\u001b[49m\u001b[43m \u001b[49m\u001b[43mqargs\u001b[49m\u001b[43m=\u001b[49m\u001b[43mqargs\u001b[49m\u001b[43m)\u001b[49m\n\u001b[32m    402\u001b[39m \u001b[38;5;66;03m# Evolution by an Operator\u001b[39;00m\n\u001b[32m    403\u001b[39m \u001b[38;5;28;01mif\u001b[39;00m \u001b[38;5;129;01mnot\u001b[39;00m \u001b[38;5;28misinstance\u001b[39m(other, Operator):\n",
      "\u001b[36mFile \u001b[39m\u001b[32m/opt/anaconda3/envs/yb/lib/python3.13/site-packages/qiskit/quantum_info/states/statevector.py:968\u001b[39m, in \u001b[36mStatevector._evolve_instruction\u001b[39m\u001b[34m(statevec, obj, qargs)\u001b[39m\n\u001b[32m    966\u001b[39m \u001b[38;5;28;01mfor\u001b[39;00m instruction \u001b[38;5;129;01min\u001b[39;00m obj.definition:\n\u001b[32m    967\u001b[39m     \u001b[38;5;28;01mif\u001b[39;00m instruction.clbits:\n\u001b[32m--> \u001b[39m\u001b[32m968\u001b[39m         \u001b[38;5;28;01mraise\u001b[39;00m QiskitError(\n\u001b[32m    969\u001b[39m             \u001b[33mf\u001b[39m\u001b[33m\"\u001b[39m\u001b[33mCannot apply instruction with classical bits: \u001b[39m\u001b[38;5;132;01m{\u001b[39;00minstruction.operation.name\u001b[38;5;132;01m}\u001b[39;00m\u001b[33m\"\u001b[39m\n\u001b[32m    970\u001b[39m         )\n\u001b[32m    971\u001b[39m     \u001b[38;5;66;03m# Get the integer position of the flat register\u001b[39;00m\n\u001b[32m    972\u001b[39m     \u001b[38;5;28;01mif\u001b[39;00m qargs \u001b[38;5;129;01mis\u001b[39;00m \u001b[38;5;28;01mNone\u001b[39;00m:\n",
      "\u001b[31mQiskitError\u001b[39m: 'Cannot apply instruction with classical bits: measure'"
     ]
    }
   ],
   "source": [
    "from qiskit import QuantumCircuit, transpile\n",
    "from qiskit_aer import Aer\n",
    "from qiskit.visualization import plot_histogram, plot_bloch_multivector\n",
    "from qiskit.quantum_info import Statevector\n",
    "\n",
    "qc = QuantumCircuit(1)\n",
    "qc.h(0)\n",
    "qc.y(0)\n",
    "qc.measure_all()\n",
    "display(qc.draw('mpl'))\n",
    "sim = Aer.get_backend('aer_simulator')\n",
    "tqc = transpile(qc, sim)\n",
    "result = sim.run(tqc, shots=1000).result()\n",
    "counts = result.get_counts()\n",
    "init_state = Statevector.from_label('0')\n",
    "final_state = init_state.evolve(qc)\n",
    "display(plot_bloch_multivector(final_state))\n",
    "display(plot_histogram(counts))"
   ]
  }
 ],
 "metadata": {
  "kernelspec": {
   "display_name": "yb",
   "language": "python",
   "name": "python3"
  },
  "language_info": {
   "codemirror_mode": {
    "name": "ipython",
    "version": 3
   },
   "file_extension": ".py",
   "mimetype": "text/x-python",
   "name": "python",
   "nbconvert_exporter": "python",
   "pygments_lexer": "ipython3",
   "version": "3.13.2"
  }
 },
 "nbformat": 4,
 "nbformat_minor": 5
}
